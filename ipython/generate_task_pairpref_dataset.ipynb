{
 "cells": [
  {
   "cell_type": "code",
   "execution_count": 11,
   "metadata": {
    "collapsed": true
   },
   "outputs": [],
   "source": [
    "import pandas as pd\n",
    "import json"
   ]
  },
  {
   "cell_type": "code",
   "execution_count": 12,
   "metadata": {
    "collapsed": true
   },
   "outputs": [],
   "source": [
    "df_user = pd.read_pickle(\"../Dataset/df_user_0103.pkl\")"
   ]
  },
  {
   "cell_type": "code",
   "execution_count": 13,
   "metadata": {},
   "outputs": [],
   "source": [
    "recs = []\n",
    "for userid, tasks in zip(df_user['userid'], df_user['tasks']):\n",
    "    for ti in range(1, len(tasks)):\n",
    "        if tasks[ti-1][3] < tasks[ti][3]:\n",
    "            recs.append((userid, tasks[ti-1][0], tasks[ti][0]))\n",
    "        elif tasks[ti-1][3] > tasks[ti][3]:\n",
    "            recs.append((userid, tasks[ti][0], tasks[ti-1][0]))\n",
    "        else:\n",
    "            if tasks[ti][4] == 1:\n",
    "                recs.append((userid, tasks[ti][0], tasks[ti-1][0]))\n",
    "            elif tasks[ti][4] == 2:\n",
    "                recs.append((userid, tasks[ti-1][0], tasks[ti][0]))\n",
    "            else:\n",
    "                print \"error\"\n",
    "json.dump(recs, open(\"../Dataset/task_pairpref_satfirst.json\", 'w'), indent=1)"
   ]
  },
  {
   "cell_type": "code",
   "execution_count": 14,
   "metadata": {},
   "outputs": [],
   "source": [
    "recs = []\n",
    "for userid, tasks in zip(df_user['userid'], df_user['tasks']):\n",
    "    for ti in range(1, len(tasks)):\n",
    "        \n",
    "        if tasks[ti][4] == 1:\n",
    "            recs.append((userid, tasks[ti][0], tasks[ti-1][0]))\n",
    "        elif tasks[ti][4] == 2:\n",
    "            recs.append((userid, tasks[ti-1][0], tasks[ti][0]))\n",
    "        else:\n",
    "            print \"error\"\n",
    "            \n",
    "json.dump(recs, open(\"../Dataset/task_pairpref_pairfirst.json\", 'w'), indent=1)"
   ]
  },
  {
   "cell_type": "code",
   "execution_count": null,
   "metadata": {
    "collapsed": true
   },
   "outputs": [],
   "source": []
  }
 ],
 "metadata": {
  "kernelspec": {
   "display_name": "Python 2",
   "language": "python",
   "name": "python2"
  },
  "language_info": {
   "codemirror_mode": {
    "name": "ipython",
    "version": 2
   },
   "file_extension": ".py",
   "mimetype": "text/x-python",
   "name": "python",
   "nbconvert_exporter": "python",
   "pygments_lexer": "ipython2",
   "version": "2.7.14"
  }
 },
 "nbformat": 4,
 "nbformat_minor": 2
}
