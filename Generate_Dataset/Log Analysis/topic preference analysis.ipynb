{
 "cells": [
  {
   "cell_type": "code",
   "execution_count": 2,
   "metadata": {},
   "outputs": [],
   "source": [
    "import pandas as pd\n",
    "import numpy as np\n",
    "import matplotlib.pyplot as plt\n",
    "import seaborn as sns\n",
    "import utils\n",
    "# reload(utils)\n",
    "import json\n",
    "from collections import Counter, defaultdict\n",
    "%matplotlib inline"
   ]
  },
  {
   "cell_type": "code",
   "execution_count": 3,
   "metadata": {
    "collapsed": true
   },
   "outputs": [],
   "source": [
    "logs = utils.loadlogs()"
   ]
  },
  {
   "cell_type": "code",
   "execution_count": 6,
   "metadata": {
    "collapsed": true
   },
   "outputs": [],
   "source": [
    "df_news = pd.read_pickle(\"df_news.pkl\")"
   ]
  },
  {
   "cell_type": "code",
   "execution_count": 4,
   "metadata": {
    "collapsed": true
   },
   "outputs": [],
   "source": [
    "recs = []\n",
    "for ulog in logs:\n",
    "    userid = ulog['studentID']\n",
    "    topic_pref = ulog['pre_questions']\n",
    "    topic_pref_post = ulog['post_questions']\n",
    "    \n",
    "    for ti, topic in enumerate([u'社会', u'娱乐', u'体育', u'科技', u'历史']):\n",
    "        recs.append((userid, topic, int(topic_pref[topic][0]), int(topic_pref_post[\"topic-\"+str(ti+1)][0])))\n",
    "df_topic = pd.DataFrame.from_records(recs, columns=['userid', 'topic', 'pre-topic-pref', 'post-topic-pref'])"
   ]
  },
  {
   "cell_type": "code",
   "execution_count": 7,
   "metadata": {},
   "outputs": [],
   "source": [
    "recs = []\n",
    "for tu, tdf in df_news.groupby(\"userid\"):\n",
    "    for ti, topic in enumerate([u'社会', u'娱乐', u'体育', u'科技', u'历史']):\n",
    "        tnum = len(tdf[tdf['ifclick'] & (tdf['topic'] == topic)])\n",
    "        \n",
    "        read_pref = np.mean(tdf[tdf['ifclick'] & (tdf['topic'] == topic)]['read_pref'])\n",
    "        equality = np.mean(tdf[tdf['ifclick'] & (tdf['topic'] == topic)]['equality'])\n",
    "\n",
    "        suprise = len(tdf[tdf['ifclick'] & (tdf['topic'] == topic) & (tdf['pre_pref']<=tdf['read_pref'])])\n",
    "        dissuprise = len(tdf[tdf['ifclick'] & (tdf['topic'] == topic) & (tdf['pre_pref']>tdf['read_pref'])])\n",
    "        \n",
    "        recs.append((tu, topic, tnum, suprise, dissuprise, read_pref, equality))\n",
    "df_topic_clk = pd.DataFrame.from_records(recs, columns=['userid', 'topic', 'clk_num', 'pre<=read', 'pre>read', 'avg_read_pref', 'equality'])"
   ]
  },
  {
   "cell_type": "code",
   "execution_count": 8,
   "metadata": {
    "collapsed": true
   },
   "outputs": [],
   "source": [
    "df_merge = df_topic.merge(df_topic_clk, on=['userid', 'topic'], how=\"left\")"
   ]
  },
  {
   "cell_type": "code",
   "execution_count": 9,
   "metadata": {
    "collapsed": true
   },
   "outputs": [],
   "source": [
    "df_merge['post-pre'] = df_merge['post-topic-pref'] - df_merge['pre-topic-pref']"
   ]
  },
  {
   "cell_type": "code",
   "execution_count": 10,
   "metadata": {},
   "outputs": [
    {
     "data": {
      "text/plain": [
       "([<matplotlib.axis.XTick at 0x7f522776d810>,\n",
       "  <matplotlib.axis.XTick at 0x7f522776d590>,\n",
       "  <matplotlib.axis.XTick at 0x7f52277c5750>,\n",
       "  <matplotlib.axis.XTick at 0x7f521f88b190>,\n",
       "  <matplotlib.axis.XTick at 0x7f521f88b650>,\n",
       "  <matplotlib.axis.XTick at 0x7f521f88bb50>,\n",
       "  <matplotlib.axis.XTick at 0x7f521f895090>,\n",
       "  <matplotlib.axis.XTick at 0x7f521f895590>,\n",
       "  <matplotlib.axis.XTick at 0x7f521f895a90>],\n",
       " <a list of 9 Text xticklabel objects>)"
      ]
     },
     "execution_count": 10,
     "metadata": {},
     "output_type": "execute_result"
    },
    {
     "data": {
      "image/png": "[encoded data removed]",
      "text/plain": [
       "<matplotlib.figure.Figure at 0x7f52277c5290>"
      ]
     },
     "metadata": {},
     "output_type": "display_data"
    }
   ],
   "source": [
    "sns.set_context(\"notebook\")\n",
    "sns.set_style(\"white\")\n",
    "plt.bar(range(-4, 5), [Counter(df_merge['post-pre'])[t] for t in range(-4, 5)])\n",
    "plt.xlabel(\"changes of topic preference\")\n",
    "plt.xticks(np.arange(-4, 5)+0.5, range(-4, 5))"
   ]
  },
  {
   "cell_type": "code",
   "execution_count": 13,
   "metadata": {},
   "outputs": [
    {
     "data": {
      "text/html": [
       "<div>\n",
       "<style>\n",
       "    .dataframe thead tr:only-child th {\n",
       "        text-align: right;\n",
       "    }\n",
       "\n",
       "    .dataframe thead th {\n",
       "        text-align: left;\n",
       "    }\n",
       "\n",
       "    .dataframe tbody tr th {\n",
       "        vertical-align: top;\n",
       "    }\n",
       "</style>\n",
       "<table border=\"1\" class=\"dataframe\">\n",
       "  <thead>\n",
       "    <tr style=\"text-align: right;\">\n",
       "      <th></th>\n",
       "      <th>pre-topic-pref</th>\n",
       "      <th>post-topic-pref</th>\n",
       "      <th>post-pre</th>\n",
       "    </tr>\n",
       "  </thead>\n",
       "  <tbody>\n",
       "    <tr>\n",
       "      <th>pre-topic-pref</th>\n",
       "      <td>1.000000</td>\n",
       "      <td>0.391853</td>\n",
       "      <td>-0.607486</td>\n",
       "    </tr>\n",
       "    <tr>\n",
       "      <th>post-topic-pref</th>\n",
       "      <td>0.391853</td>\n",
       "      <td>1.000000</td>\n",
       "      <td>0.492761</td>\n",
       "    </tr>\n",
       "    <tr>\n",
       "      <th>clk_num</th>\n",
       "      <td>0.376546</td>\n",
       "      <td>0.234241</td>\n",
       "      <td>-0.153900</td>\n",
       "    </tr>\n",
       "    <tr>\n",
       "      <th>pre&lt;=read</th>\n",
       "      <td>0.231155</td>\n",
       "      <td>0.217983</td>\n",
       "      <td>-0.030426</td>\n",
       "    </tr>\n",
       "    <tr>\n",
       "      <th>pre&gt;read</th>\n",
       "      <td>0.409543</td>\n",
       "      <td>0.128990</td>\n",
       "      <td>-0.275981</td>\n",
       "    </tr>\n",
       "    <tr>\n",
       "      <th>avg_read_pref</th>\n",
       "      <td>0.031038</td>\n",
       "      <td>0.185820</td>\n",
       "      <td>0.131077</td>\n",
       "    </tr>\n",
       "    <tr>\n",
       "      <th>equality</th>\n",
       "      <td>-0.082078</td>\n",
       "      <td>0.113247</td>\n",
       "      <td>0.175405</td>\n",
       "    </tr>\n",
       "    <tr>\n",
       "      <th>post-pre</th>\n",
       "      <td>-0.607486</td>\n",
       "      <td>0.492761</td>\n",
       "      <td>1.000000</td>\n",
       "    </tr>\n",
       "  </tbody>\n",
       "</table>\n",
       "</div>"
      ],
      "text/plain": [
       "                 pre-topic-pref  post-topic-pref  post-pre\n",
       "pre-topic-pref         1.000000         0.391853 -0.607486\n",
       "post-topic-pref        0.391853         1.000000  0.492761\n",
       "clk_num                0.376546         0.234241 -0.153900\n",
       "pre<=read              0.231155         0.217983 -0.030426\n",
       "pre>read               0.409543         0.128990 -0.275981\n",
       "avg_read_pref          0.031038         0.185820  0.131077\n",
       "equality              -0.082078         0.113247  0.175405\n",
       "post-pre              -0.607486         0.492761  1.000000"
      ]
     },
     "execution_count": 13,
     "metadata": {},
     "output_type": "execute_result"
    }
   ],
   "source": [
    "df_merge.corr()[['pre-topic-pref', 'post-topic-pref', 'post-pre']]"
   ]
  },
  {
   "cell_type": "code",
   "execution_count": null,
   "metadata": {
    "collapsed": true
   },
   "outputs": [],
   "source": []
  }
 ],
 "metadata": {
  "kernelspec": {
   "display_name": "Python 2",
   "language": "python",
   "name": "python2"
  },
  "language_info": {
   "codemirror_mode": {
    "name": "ipython",
    "version": 2
   },
   "file_extension": ".py",
   "mimetype": "text/x-python",
   "name": "python",
   "nbconvert_exporter": "python",
   "pygments_lexer": "ipython2",
   "version": "2.7.14"
  }
 },
 "nbformat": 4,
 "nbformat_minor": 2
}
